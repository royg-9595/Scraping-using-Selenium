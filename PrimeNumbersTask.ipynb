{
 "cells": [
  {
   "cell_type": "code",
   "execution_count": 119,
   "id": "31dfb380",
   "metadata": {},
   "outputs": [],
   "source": [
    "from selenium import webdriver\n",
    "from selenium.webdriver.support.ui import WebDriverWait\n",
    "from selenium.webdriver.common.by import By\n",
    "from selenium.webdriver.support import expected_conditions as EC\n",
    "import time\n",
    "import pandas as pd"
   ]
  },
  {
   "cell_type": "code",
   "execution_count": 120,
   "id": "a73a7881",
   "metadata": {},
   "outputs": [
    {
     "name": "stderr",
     "output_type": "stream",
     "text": [
      "C:\\Users\\Anjani Jayanth Roy\\AppData\\Local\\Temp\\ipykernel_13704\\1493300112.py:1: DeprecationWarning: executable_path has been deprecated, please pass in a Service object\n",
      "  driver = webdriver.Chrome('/Users/Anjani Jayanth Roy/Downloads/chromedriver/chromedriver')\n"
     ]
    }
   ],
   "source": [
    "driver = webdriver.Chrome('/Users/Anjani Jayanth Roy/Downloads/chromedriver/chromedriver')"
   ]
  },
  {
   "cell_type": "code",
   "execution_count": 129,
   "id": "cea91646",
   "metadata": {},
   "outputs": [],
   "source": [
    "list_of_lists=[]\n",
    "for i in range(1,9):\n",
    "    lists=[]\n",
    "    driver.get('https://qcpi.questcdn.com/cdn/posting/?group=1950787&provider=1950787')\n",
    "    searchposts=driver.find_element(\"xpath\",'//ul[@class=\"nav nav-pills nav-main nav-menu\"]/li[1]')\n",
    "    searchposts.click()\n",
    "    time.sleep(2)\n",
    "    post=driver.find_element(\"xpath\",'/html/body/div[2]/div[2]/div[2]/div/div[3]/div[6]/div/div/div/div[3]/div/table/tbody/tr[' + str(i) +']/td[2]')\n",
    "    time.sleep(1)\n",
    "    post.click()\n",
    "    time.sleep(5)\n",
    "    questno=driver.find_element(\"xpath\", '//div[@class=\"posting-second-header\"]/h4/span/b')\n",
    "    lists.append(questno.text.split()[2])\n",
    "    estval=driver.find_element(\"xpath\",'//div[@class=\"col-sm-8 col-md-9 col-lg-8 col-xl-8\"]/div/div/div[2]/div/table/tbody/tr[3]/td[2]')\n",
    "    lists.append(estval.text)\n",
    "    closdate=driver.find_element(\"xpath\", '//div[@class=\"col-sm-8 col-md-9 col-lg-8 col-xl-8\"]/div/div/div[2]/div/table/tbody/tr/td[2]')\n",
    "    lists.append(closdate.text)\n",
    "    desc=driver.find_element(\"xpath\", '//div[@class=\"col-sm-8 col-md-9 col-lg-8 col-xl-8\"]/div/div/div[3]/div/table/tbody/tr[3]/td[2]')\n",
    "    lists.append(desc.text)\n",
    "    list_of_lists.append(lists)"
   ]
  },
  {
   "cell_type": "code",
   "execution_count": 130,
   "id": "fe7173fe",
   "metadata": {},
   "outputs": [
    {
     "data": {
      "text/plain": [
       "[['8526724',\n",
       "  '$1,000,000.00 to $2,500,000.00',\n",
       "  'Tue, 06/06/2023 02:00 PM MDT',\n",
       "  'reconstructing 3000 E at Foothill Road and adding a deceleration lane at E 2800 N'],\n",
       " ['8529878',\n",
       "  '$500,000.00 to $1,000,000.00',\n",
       "  'Tue, 06/06/2023 02:00 PM MDT',\n",
       "  'constructing a signal on SH-75, MP 121'],\n",
       " ['8534098',\n",
       "  '$500,000 to $1,000,000',\n",
       "  'Tue, 06/06/2023 02:00 PM MDT',\n",
       "  'Reapplying water borne pavement markings to various highway routes'],\n",
       " ['8536176',\n",
       "  '$500,000 to $1,000,000',\n",
       "  'Tue, 06/06/2023 02:00 PM MDT',\n",
       "  'pavement striping on I-84 from MP 121.094 to MP 275.650, EBL & WBL; I-86 from MP 0.00 to MP 14.82, EBL & WBL; US-30 from MP 211.00 to MP 222.56; SH-74 from MP 0.00 to MP 7.67; US 93 from MP 31.00 to MP 50.036; Bliss & Juniper Rest Areas, Cottrell Port Entry & Rest Area, Junction US 30/93, and the Flyover located at US-93'],\n",
       " ['8539402',\n",
       "  '$1,000,000.00 to $2,500,000.00',\n",
       "  'Tue, 06/06/2023 02:00 PM MDT',\n",
       "  'chip seal and fog coat of SH-3 from MP 111.38 to MP 117.68 and SH-54 from MP 8.162 to 11.80 and SH-97 from MP 69.07 to MP 81.50'],\n",
       " ['8539418',\n",
       "  'Greater than 25 Million',\n",
       "  'Tue, 06/13/2023 02:00 PM MDT',\n",
       "  'constructing an interchange to include an overpass and on and off ramps on east and westbound US-20, MP 343.13 to MP 344.17; US-20 Exit 343 Interchange'],\n",
       " ['8544737',\n",
       "  '$250,000 to $500,000',\n",
       "  'Tue, 06/13/2023 02:00 PM MDT',\n",
       "  'Please contact the Resident Engineer ***RYAN HAWKINS P.E.*** AT (208) 772-1223 or ryan.hawkins@itd.idaho.gov for any design related questions.'],\n",
       " ['8544742',\n",
       "  '$1,000,000.00 to $2,500,000.00',\n",
       "  'Tue, 06/13/2023 02:00 PM MDT',\n",
       "  'bridge preservation repairs on multiple bridges in District 1 along I-90 corridor bridges']]"
      ]
     },
     "execution_count": 130,
     "metadata": {},
     "output_type": "execute_result"
    }
   ],
   "source": [
    "list_of_lists"
   ]
  },
  {
   "cell_type": "code",
   "execution_count": 131,
   "id": "4663110a",
   "metadata": {},
   "outputs": [],
   "source": [
    "df = pd.DataFrame(list_of_lists, columns=['Quest No.', 'Est. Value Notes', 'Closing Date', 'Description'])\n",
    "df.to_csv('Primenumberstask.csv', index=True, sep=',')"
   ]
  }
 ],
 "metadata": {
  "kernelspec": {
   "display_name": "Python 3 (ipykernel)",
   "language": "python",
   "name": "python3"
  },
  "language_info": {
   "codemirror_mode": {
    "name": "ipython",
    "version": 3
   },
   "file_extension": ".py",
   "mimetype": "text/x-python",
   "name": "python",
   "nbconvert_exporter": "python",
   "pygments_lexer": "ipython3",
   "version": "3.10.6"
  }
 },
 "nbformat": 4,
 "nbformat_minor": 5
}
